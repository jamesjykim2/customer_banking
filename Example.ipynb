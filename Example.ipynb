{
 "cells": [
  {
   "cell_type": "code",
   "execution_count": 1,
   "id": "6b884c7d-0de7-4cd7-9578-0e0b5af90028",
   "metadata": {},
   "outputs": [
    {
     "name": "stdin",
     "output_type": "stream",
     "text": [
      "Please set the savings balance amount: 2000\n",
      "Please set the interest rate: 3\n",
      "Please set the # of months: 12\n"
     ]
    },
    {
     "name": "stdout",
     "output_type": "stream",
     "text": [
      "Updated Savings Balance: $2060.0\n",
      "The Interest Earned: $60.0\n"
     ]
    },
    {
     "name": "stdin",
     "output_type": "stream",
     "text": [
      "Please set the cd balance amount: 3000\n",
      "Please set the interest rate: 3\n",
      "Please set the # of months: 14\n"
     ]
    },
    {
     "name": "stdout",
     "output_type": "stream",
     "text": [
      "Updated CD Balance: $3105.00\n",
      "The Interest Earned: $105.00\n"
     ]
    }
   ],
   "source": [
    "# Import the create_cd_account and create_savings_account functions\n",
    "# ADD YOUR CODE HERE\n",
    "from savings_account import create_savings_account\n",
    "from cd_account import create_cd_account\n",
    "\n",
    "# Define the main function\n",
    "def main():\n",
    "    \"\"\"This function prompts the user to enter the savings and cd account balance, interest rate,\n",
    "    and the length of months to determine the interest gained.\n",
    "    It displays the interest earned on the savings and CD accounts and updates the balances.\n",
    "    \"\"\"\n",
    "    # Prompt the user to set the savings balance, interest rate, and months for the savings account.\n",
    "    # ADD YOUR CODE HERE\n",
    "    savings_balance = float(input(\"Please set the savings balance amount:\"))\n",
    "    savings_interest = float(input(\"Please set the interest rate:\"))\n",
    "    savings_maturity = int(input(\"Please set the # of months:\"))\n",
    "\n",
    "    # Call the create_savings_account function and pass the variables from the user.\n",
    "    updated_savings_balance, interest_earned = create_savings_account(savings_balance, savings_interest, savings_maturity)\n",
    "\n",
    "    # Print out the interest earned and updated savings account balance with interest earned for the given months.\n",
    "    # ADD YOUR CODE HERE\n",
    "    print(f\"Updated Savings Balance: ${updated_savings_balance}\")\n",
    "    print(f\"The Interest Earned: ${interest_earned}\") \n",
    "\n",
    "    # Prompt the user to set the CD balance, interest rate, and months for the CD account.\n",
    "    # ADD YOUR CODE HERE\n",
    "    cd_balance = float(input(\"Please set the cd balance amount:\"))\n",
    "    cd_interest = float(input(\"Please set the interest rate:\"))\n",
    "    cd_maturity = int(input(\"Please set the # of months:\"))\n",
    "\n",
    "    # Call the create_cd_account function and pass the variables from the user.\n",
    "    updated_cd_balance, interest_earned = create_cd_account(cd_balance, cd_interest, cd_maturity)\n",
    "\n",
    "    # Print out the interest earned and updated CD account balance with interest earned for the given months.\n",
    "    # ADD YOUR CODE HERE\n",
    "    print(f\"Updated CD Balance: ${updated_cd_balance:.2f}\")\n",
    "    print(f\"The Interest Earned: ${interest_earned:.2f}\")\n",
    "\n",
    "if __name__ == \"__main__\":\n",
    "    # Call the main function.\n",
    "    main()"
   ]
  },
  {
   "cell_type": "code",
   "execution_count": null,
   "id": "33be4df7-c683-47de-851c-581f83b1faeb",
   "metadata": {},
   "outputs": [],
   "source": []
  }
 ],
 "metadata": {
  "kernelspec": {
   "display_name": "Python 3 (ipykernel)",
   "language": "python",
   "name": "python3"
  },
  "language_info": {
   "codemirror_mode": {
    "name": "ipython",
    "version": 3
   },
   "file_extension": ".py",
   "mimetype": "text/x-python",
   "name": "python",
   "nbconvert_exporter": "python",
   "pygments_lexer": "ipython3",
   "version": "3.12.4"
  }
 },
 "nbformat": 4,
 "nbformat_minor": 5
}
